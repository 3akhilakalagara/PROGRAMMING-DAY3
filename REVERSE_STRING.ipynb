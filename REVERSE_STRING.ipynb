{
  "nbformat": 4,
  "nbformat_minor": 0,
  "metadata": {
    "colab": {
      "provenance": []
    },
    "kernelspec": {
      "name": "python3",
      "display_name": "Python 3"
    },
    "language_info": {
      "name": "python"
    }
  },
  "cells": [
    {
      "cell_type": "markdown",
      "source": [
        "**USING SWAPCASE() TO CONVERT UPPER TO LLOWER OR LOWER TO UPPER**"
      ],
      "metadata": {
        "id": "MuL5nXerEM1D"
      }
    },
    {
      "cell_type": "code",
      "execution_count": 2,
      "metadata": {
        "colab": {
          "base_uri": "https://localhost:8080/"
        },
        "id": "AmKkUZOJDmZn",
        "outputId": "e6e72d99-c4fd-47ab-d20c-903fcaa52d7f"
      },
      "outputs": [
        {
          "output_type": "stream",
          "name": "stdout",
          "text": [
            "ABCD\n",
            "abcd\n"
          ]
        }
      ],
      "source": [
        "str = input()\n",
        "print(str.swapcase())"
      ]
    },
    {
      "cell_type": "markdown",
      "source": [
        "**LOWER TO UPPER OR UPPER TO LOWER IN A STRING**"
      ],
      "metadata": {
        "id": "KOMm77KwEdRd"
      }
    },
    {
      "cell_type": "code",
      "source": [
        "str=input()\n",
        "str1=\" \"\n",
        "for i in str:\n",
        "  if i.isupper():\n",
        "    i = i.lower()\n",
        "    str1+=i\n",
        "  else:\n",
        "    i=i.upper()\n",
        "    str1+=i\n",
        "print(str1)\n"
      ],
      "metadata": {
        "colab": {
          "base_uri": "https://localhost:8080/"
        },
        "id": "RehwBpoPErAL",
        "outputId": "e265b231-2d83-4990-bf5a-44312534625e"
      },
      "execution_count": 3,
      "outputs": [
        {
          "output_type": "stream",
          "name": "stdout",
          "text": [
            "akhilA\n",
            " AKHILa\n"
          ]
        }
      ]
    },
    {
      "cell_type": "markdown",
      "source": [
        "**FIRST AND LAST LETTER IN A STRING SHOULD BE CAPS**"
      ],
      "metadata": {
        "id": "MK6-cSLOGECS"
      }
    },
    {
      "cell_type": "code",
      "source": [
        "str=input()\n",
        "str=str[0].upper()+str[1:len(str)-1]+str[len(str)-1].upper()\n",
        "print(str)"
      ],
      "metadata": {
        "colab": {
          "base_uri": "https://localhost:8080/"
        },
        "id": "4mDSqZDKFqc0",
        "outputId": "3482ef27-0f94-491b-e8b9-3a4102444ec9"
      },
      "execution_count": 4,
      "outputs": [
        {
          "output_type": "stream",
          "name": "stdout",
          "text": [
            "akhila\n",
            "AkhilA\n"
          ]
        }
      ]
    },
    {
      "cell_type": "markdown",
      "source": [
        "**IN A SENTENCE WORD START WITH CAPITAL LETTER AND END WITH CAPITAL LETTER**"
      ],
      "metadata": {
        "id": "_4HQQivaGy1b"
      }
    },
    {
      "cell_type": "code",
      "source": [
        "str=input()\n",
        "words=str.split()\n",
        "cap_words=[]\n",
        "for word in words:\n",
        "  if len(word)>1:\n",
        "    cap_words.append(word[0].upper()+word[1:len(word)-1]+word[len(word)-1].upper())\n",
        "  else:\n",
        "    cap_words=word.upper()\n",
        "    cap_words.append(cap_words)\n",
        "print(\" \".join(cap_words))"
      ],
      "metadata": {
        "colab": {
          "base_uri": "https://localhost:8080/"
        },
        "id": "BlV5CoGZG-eI",
        "outputId": "574da855-55f9-415d-9e06-ad8b51396ef4"
      },
      "execution_count": 5,
      "outputs": [
        {
          "output_type": "stream",
          "name": "stdout",
          "text": [
            "devara cross 200cr\n",
            "DevarA CrosS 200cR\n"
          ]
        }
      ]
    },
    {
      "cell_type": "markdown",
      "source": [
        "**REVERSE A STRING**"
      ],
      "metadata": {
        "id": "4jd1ad3VIxfu"
      }
    },
    {
      "cell_type": "code",
      "source": [
        "str=input()\n",
        "print(str[::-1])"
      ],
      "metadata": {
        "colab": {
          "base_uri": "https://localhost:8080/"
        },
        "id": "XUDQbK_cI17I",
        "outputId": "97ea291b-cb52-494b-b472-f92bc327ccfb"
      },
      "execution_count": 6,
      "outputs": [
        {
          "output_type": "stream",
          "name": "stdout",
          "text": [
            "tihor\n",
            "rohit\n"
          ]
        }
      ]
    },
    {
      "cell_type": "code",
      "source": [
        "str=input()\n",
        "str1=\"\"\n",
        "for i in range(len(str)-1,-1,-1):\n",
        "  str1+=str[i]\n",
        "print(str1)"
      ],
      "metadata": {
        "colab": {
          "base_uri": "https://localhost:8080/"
        },
        "id": "twaRRIW2JWKo",
        "outputId": "a18f1683-113e-4feb-dac3-53e24fc2d0fe"
      },
      "execution_count": 8,
      "outputs": [
        {
          "output_type": "stream",
          "name": "stdout",
          "text": [
            "amrahs\n",
            "sharma\n"
          ]
        }
      ]
    },
    {
      "cell_type": "markdown",
      "source": [
        "**REVERSE WORDS IN A SENTENCE**"
      ],
      "metadata": {
        "id": "qKa_ARU5KLk4"
      }
    },
    {
      "cell_type": "code",
      "source": [
        "str=input()\n",
        "words=str.split()\n",
        "rev_words=words[::-1]\n",
        "print(\" \".join(rev_words))"
      ],
      "metadata": {
        "colab": {
          "base_uri": "https://localhost:8080/"
        },
        "id": "0aoc8L3mJ3Gj",
        "outputId": "8d8509f8-808e-4dee-9b84-6e10e4ad7913"
      },
      "execution_count": 10,
      "outputs": [
        {
          "output_type": "stream",
          "name": "stdout",
          "text": [
            "rohitsharma captain\n",
            "captain rohitsharma\n"
          ]
        }
      ]
    }
  ]
}